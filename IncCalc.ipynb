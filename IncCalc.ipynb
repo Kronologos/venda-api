{
  "nbformat": 4,
  "nbformat_minor": 0,
  "metadata": {
    "colab": {
      "name": "IncCalc.ipynb",
      "provenance": [],
      "private_outputs": true,
      "collapsed_sections": [],
      "authorship_tag": "ABX9TyO7uoXV/1A/AhLyqFVMmeEy",
      "include_colab_link": true
    },
    "kernelspec": {
      "name": "python3",
      "display_name": "Python 3"
    }
  },
  "cells": [
    {
      "cell_type": "markdown",
      "metadata": {
        "id": "view-in-github",
        "colab_type": "text"
      },
      "source": [
        "<a href=\"https://colab.research.google.com/github/Kronologos/venda-api/blob/master/IncCalc.ipynb\" target=\"_parent\"><img src=\"https://colab.research.google.com/assets/colab-badge.svg\" alt=\"Open In Colab\"/></a>"
      ]
    },
    {
      "cell_type": "code",
      "metadata": {
        "id": "k0oHME-zxTOA"
      },
      "source": [
        "from sympy import *\n",
        "import numpy as np\n",
        "init_printing(use_latex=True)\n",
        "\n",
        "def get_vars(expression):\n",
        "  return expression.free_symbols\n",
        "\n",
        "def get_dict_expr_inct(expression):\n",
        "  vars = get_vars(expression)\n",
        "  pares_val = dict()\n",
        "  pares_inc = dict()\n",
        "  for var in vars:\n",
        "    aux = float(input(\"Digite o valor da variável \"+ str(var)+\": \"))\n",
        "    pares_val[var] = aux\n",
        "    aux1 = float(input(\"E sua respectiva incerteza: \"))\n",
        "    pares_inc[var] = aux1\n",
        "  return pares_val, pares_inc\n",
        " \n",
        "def incert_relativa(expression,pares_val,pares_inc,prec):\n",
        "  vars = get_vars(expression)\n",
        "  valor = 0\n",
        "  for var in vars:\n",
        "    deriv = float(diff(expression,var).evalf(subs = pares_val))\n",
        "    val = pares_inc[var]\n",
        "    value = (val * deriv)**2\n",
        "    valor += value\n",
        "  resp = round(np.sqrt(valor),prec)\n",
        "  return resp\n",
        "\n",
        "def val_real(expression,pares_val):\n",
        "  return expression.evalf(subs=pares_val)\n",
        "\n",
        "def derivs(expression,pares_val,pares_inc,prec):\n",
        "  vars = get_vars(expression)\n",
        "  valor = 0\n",
        "  for var in vars:\n",
        "    print(var)\n",
        "    deriv = diff(expression,var)\n",
        "    print(deriv)\n",
        "    deriv = float(diff(expression,var).evalf(subs = pares_val))\n",
        "    print(deriv)"
      ],
      "execution_count": null,
      "outputs": []
    },
    {
      "cell_type": "code",
      "metadata": {
        "id": "nUlB5VNFSuVf"
      },
      "source": [
        "expr = sympify(str(input(\"Digite aqui sua expressão: \")))\n",
        "expr"
      ],
      "execution_count": null,
      "outputs": []
    },
    {
      "cell_type": "code",
      "metadata": {
        "id": "ptVWEEWGR_rJ"
      },
      "source": [
        "parval, parinc = get_dict_expr_inct(expr)"
      ],
      "execution_count": null,
      "outputs": []
    },
    {
      "cell_type": "code",
      "metadata": {
        "id": "_OSeRuxRSLDI"
      },
      "source": [
        "incert_relativa(expr,parval,parinc,5)"
      ],
      "execution_count": null,
      "outputs": []
    },
    {
      "cell_type": "code",
      "metadata": {
        "id": "dyEWGz2tTjlb"
      },
      "source": [
        "val_real(expr,parval)"
      ],
      "execution_count": null,
      "outputs": []
    }
  ]
}